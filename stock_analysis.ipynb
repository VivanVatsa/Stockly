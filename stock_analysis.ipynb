{
 "metadata": {
  "language_info": {
   "codemirror_mode": {
    "name": "ipython",
    "version": 3
   },
   "file_extension": ".py",
   "mimetype": "text/x-python",
   "name": "python",
   "nbconvert_exporter": "python",
   "pygments_lexer": "ipython3",
   "version": "3.9.0-final"
  },
  "orig_nbformat": 2,
  "kernelspec": {
   "name": "Python 3.9.0 32-bit",
   "display_name": "Python 3.9.0 32-bit",
   "metadata": {
    "interpreter": {
     "hash": "966554753b7ad300c761fe504d2a0047967422be04d495bf5b98858861ffa539"
    }
   }
  }
 },
 "nbformat": 4,
 "nbformat_minor": 2,
 "cells": [
  {
   "cell_type": "code",
   "execution_count": 26,
   "metadata": {},
   "outputs": [],
   "source": [
    "from pandas_datareader import data\n",
    "import datetime"
   ]
  },
  {
   "cell_type": "code",
   "execution_count": 27,
   "metadata": {},
   "outputs": [
    {
     "output_type": "stream",
     "text": [
      "\u001b[1;31mSignature:\u001b[0m\n",
      "\u001b[0mdata\u001b[0m\u001b[1;33m.\u001b[0m\u001b[0mDataReader\u001b[0m\u001b[1;33m(\u001b[0m\u001b[1;33m\n",
      "\u001b[0m    \u001b[0mname\u001b[0m\u001b[1;33m,\u001b[0m\u001b[1;33m\n",
      "\u001b[0m    \u001b[0mdata_source\u001b[0m\u001b[1;33m=\u001b[0m\u001b[1;32mNone\u001b[0m\u001b[1;33m,\u001b[0m\u001b[1;33m\n",
      "\u001b[0m    \u001b[0mstart\u001b[0m\u001b[1;33m=\u001b[0m\u001b[1;32mNone\u001b[0m\u001b[1;33m,\u001b[0m\u001b[1;33m\n",
      "\u001b[0m    \u001b[0mend\u001b[0m\u001b[1;33m=\u001b[0m\u001b[1;32mNone\u001b[0m\u001b[1;33m,\u001b[0m\u001b[1;33m\n",
      "\u001b[0m    \u001b[0mretry_count\u001b[0m\u001b[1;33m=\u001b[0m\u001b[1;36m3\u001b[0m\u001b[1;33m,\u001b[0m\u001b[1;33m\n",
      "\u001b[0m    \u001b[0mpause\u001b[0m\u001b[1;33m=\u001b[0m\u001b[1;36m0.1\u001b[0m\u001b[1;33m,\u001b[0m\u001b[1;33m\n",
      "\u001b[0m    \u001b[0msession\u001b[0m\u001b[1;33m=\u001b[0m\u001b[1;32mNone\u001b[0m\u001b[1;33m,\u001b[0m\u001b[1;33m\n",
      "\u001b[0m    \u001b[0mapi_key\u001b[0m\u001b[1;33m=\u001b[0m\u001b[1;32mNone\u001b[0m\u001b[1;33m,\u001b[0m\u001b[1;33m\n",
      "\u001b[0m\u001b[1;33m)\u001b[0m\u001b[1;33m\u001b[0m\u001b[1;33m\u001b[0m\u001b[0m\n",
      "\u001b[1;31mDocstring:\u001b[0m\n",
      "Imports data from a number of online sources.\n",
      "\n",
      "Currently supports Google Finance, St. Louis FED (FRED),\n",
      "and Kenneth French's data library, among others.\n",
      "\n",
      "Parameters\n",
      "----------\n",
      "name : str or list of strs\n",
      "    the name of the dataset. Some data sources (IEX, fred) will\n",
      "    accept a list of names.\n",
      "data_source: {str, None}\n",
      "    the data source (\"iex\", \"fred\", \"ff\")\n",
      "start : string, int, date, datetime, Timestamp\n",
      "    left boundary for range (defaults to 1/1/2010)\n",
      "end : string, int, date, datetime, Timestamp\n",
      "    right boundary for range (defaults to today)\n",
      "retry_count : {int, 3}\n",
      "    Number of times to retry query request.\n",
      "pause : {numeric, 0.001}\n",
      "    Time, in seconds, to pause between consecutive queries of chunks. If\n",
      "    single value given for symbol, represents the pause between retries.\n",
      "session : Session, default None\n",
      "    requests.sessions.Session instance to be used\n",
      "api_key : (str, None)\n",
      "    Optional parameter to specify an API key for certain data sources.\n",
      "\n",
      "Examples\n",
      "----------\n",
      "# Data from Google Finance\n",
      "aapl = DataReader(\"AAPL\", \"iex\")\n",
      "\n",
      "# Price and volume data from IEX\n",
      "tops = DataReader([\"GS\", \"AAPL\"], \"iex-tops\")\n",
      "# Top of book executions from IEX\n",
      "gs = DataReader(\"GS\", \"iex-last\")\n",
      "# Real-time depth of book data from IEX\n",
      "gs = DataReader(\"GS\", \"iex-book\")\n",
      "\n",
      "# Data from FRED\n",
      "vix = DataReader(\"VIXCLS\", \"fred\")\n",
      "\n",
      "# Data from Fama/French\n",
      "ff = DataReader(\"F-F_Research_Data_Factors\", \"famafrench\")\n",
      "ff = DataReader(\"F-F_Research_Data_Factors_weekly\", \"famafrench\")\n",
      "ff = DataReader(\"6_Portfolios_2x3\", \"famafrench\")\n",
      "ff = DataReader(\"F-F_ST_Reversal_Factor\", \"famafrench\")\n",
      "\u001b[1;31mFile:\u001b[0m      c:\\users\\vivan\\appdata\\local\\programs\\python\\python39-32\\lib\\site-packages\\pandas_datareader\\data.py\n",
      "\u001b[1;31mType:\u001b[0m      function\n"
     ],
     "name": "stdout"
    }
   ],
   "source": [
    "data.DataReader?"
   ]
  },
  {
   "cell_type": "code",
   "execution_count": 28,
   "metadata": {},
   "outputs": [
    {
     "output_type": "execute_result",
     "data": {
      "text/plain": [
       "                  High         Low        Open       Close     Volume  \\\n",
       "Date                                                                    \n",
       "2020-10-12  125.180000  119.279999  120.059998  124.400002  240226800   \n",
       "2020-10-13  125.389999  119.650002  125.269997  121.099998  262330500   \n",
       "2020-10-14  123.029999  119.620003  121.000000  121.190002  151062300   \n",
       "2020-10-15  121.199997  118.150002  118.720001  120.709999  112559200   \n",
       "2020-10-16  121.550003  118.809998  121.279999  119.019997  115393800   \n",
       "2020-10-19  120.419998  115.660004  119.959999  115.980003  120639300   \n",
       "2020-10-20  118.980003  115.629997  116.199997  117.510002  124423700   \n",
       "\n",
       "             Adj Close  \n",
       "Date                    \n",
       "2020-10-12  124.400002  \n",
       "2020-10-13  121.099998  \n",
       "2020-10-14  121.190002  \n",
       "2020-10-15  120.709999  \n",
       "2020-10-16  119.019997  \n",
       "2020-10-19  115.980003  \n",
       "2020-10-20  117.510002  "
      ],
      "text/html": "<div>\n<style scoped>\n    .dataframe tbody tr th:only-of-type {\n        vertical-align: middle;\n    }\n\n    .dataframe tbody tr th {\n        vertical-align: top;\n    }\n\n    .dataframe thead th {\n        text-align: right;\n    }\n</style>\n<table border=\"1\" class=\"dataframe\">\n  <thead>\n    <tr style=\"text-align: right;\">\n      <th></th>\n      <th>High</th>\n      <th>Low</th>\n      <th>Open</th>\n      <th>Close</th>\n      <th>Volume</th>\n      <th>Adj Close</th>\n    </tr>\n    <tr>\n      <th>Date</th>\n      <th></th>\n      <th></th>\n      <th></th>\n      <th></th>\n      <th></th>\n      <th></th>\n    </tr>\n  </thead>\n  <tbody>\n    <tr>\n      <th>2020-10-12</th>\n      <td>125.180000</td>\n      <td>119.279999</td>\n      <td>120.059998</td>\n      <td>124.400002</td>\n      <td>240226800</td>\n      <td>124.400002</td>\n    </tr>\n    <tr>\n      <th>2020-10-13</th>\n      <td>125.389999</td>\n      <td>119.650002</td>\n      <td>125.269997</td>\n      <td>121.099998</td>\n      <td>262330500</td>\n      <td>121.099998</td>\n    </tr>\n    <tr>\n      <th>2020-10-14</th>\n      <td>123.029999</td>\n      <td>119.620003</td>\n      <td>121.000000</td>\n      <td>121.190002</td>\n      <td>151062300</td>\n      <td>121.190002</td>\n    </tr>\n    <tr>\n      <th>2020-10-15</th>\n      <td>121.199997</td>\n      <td>118.150002</td>\n      <td>118.720001</td>\n      <td>120.709999</td>\n      <td>112559200</td>\n      <td>120.709999</td>\n    </tr>\n    <tr>\n      <th>2020-10-16</th>\n      <td>121.550003</td>\n      <td>118.809998</td>\n      <td>121.279999</td>\n      <td>119.019997</td>\n      <td>115393800</td>\n      <td>119.019997</td>\n    </tr>\n    <tr>\n      <th>2020-10-19</th>\n      <td>120.419998</td>\n      <td>115.660004</td>\n      <td>119.959999</td>\n      <td>115.980003</td>\n      <td>120639300</td>\n      <td>115.980003</td>\n    </tr>\n    <tr>\n      <th>2020-10-20</th>\n      <td>118.980003</td>\n      <td>115.629997</td>\n      <td>116.199997</td>\n      <td>117.510002</td>\n      <td>124423700</td>\n      <td>117.510002</td>\n    </tr>\n  </tbody>\n</table>\n</div>"
     },
     "metadata": {},
     "execution_count": 28
    }
   ],
   "source": [
    "start=datetime.datetime(2020, 10, 11)\n",
    "end=datetime.datetime(2020, 10, 20)\n",
    "\n",
    "dfff=data.DataReader(name=\"AAPL\", data_source=\"yahoo\", start=start,end=end)\n",
    "dfff"
   ]
  },
  {
   "cell_type": "code",
   "execution_count": 29,
   "metadata": {},
   "outputs": [
    {
     "output_type": "execute_result",
     "data": {
      "text/plain": [
       "                  High         Low        Open       Close     Volume  \\\n",
       "Date                                                                    \n",
       "2020-01-01  404.399994  398.000000  402.799988  401.299988    94743.0   \n",
       "2020-01-02  410.049988  399.649994  402.000000  406.850006   100540.0   \n",
       "2020-01-03  412.000000  401.149994  407.000000  404.350006    63951.0   \n",
       "2020-01-06  414.799988  399.149994  410.000000  400.799988   368917.0   \n",
       "2020-01-07  412.000000  401.000000  409.899994  402.500000   202671.0   \n",
       "...                ...         ...         ...         ...        ...   \n",
       "2020-10-19  266.750000  260.049988  260.899994  265.100006   308286.0   \n",
       "2020-10-20  276.350006  260.500000  263.750000  271.500000   793284.0   \n",
       "2020-10-21  317.000000  264.549988  271.899994  301.950012  2541451.0   \n",
       "2020-10-22  311.750000  292.100006  298.549988  309.200012  1354266.0   \n",
       "2020-10-23  310.549988  294.000000  307.000000  296.149994   472334.0   \n",
       "\n",
       "             Adj Close  \n",
       "Date                    \n",
       "2020-01-01  389.290161  \n",
       "2020-01-02  394.674072  \n",
       "2020-01-03  392.248901  \n",
       "2020-01-06  388.805115  \n",
       "2020-01-07  390.454254  \n",
       "...                ...  \n",
       "2020-10-19  265.100006  \n",
       "2020-10-20  271.500000  \n",
       "2020-10-21  301.950012  \n",
       "2020-10-22  309.200012  \n",
       "2020-10-23  296.149994  \n",
       "\n",
       "[204 rows x 6 columns]"
      ],
      "text/html": "<div>\n<style scoped>\n    .dataframe tbody tr th:only-of-type {\n        vertical-align: middle;\n    }\n\n    .dataframe tbody tr th {\n        vertical-align: top;\n    }\n\n    .dataframe thead th {\n        text-align: right;\n    }\n</style>\n<table border=\"1\" class=\"dataframe\">\n  <thead>\n    <tr style=\"text-align: right;\">\n      <th></th>\n      <th>High</th>\n      <th>Low</th>\n      <th>Open</th>\n      <th>Close</th>\n      <th>Volume</th>\n      <th>Adj Close</th>\n    </tr>\n    <tr>\n      <th>Date</th>\n      <th></th>\n      <th></th>\n      <th></th>\n      <th></th>\n      <th></th>\n      <th></th>\n    </tr>\n  </thead>\n  <tbody>\n    <tr>\n      <th>2020-01-01</th>\n      <td>404.399994</td>\n      <td>398.000000</td>\n      <td>402.799988</td>\n      <td>401.299988</td>\n      <td>94743.0</td>\n      <td>389.290161</td>\n    </tr>\n    <tr>\n      <th>2020-01-02</th>\n      <td>410.049988</td>\n      <td>399.649994</td>\n      <td>402.000000</td>\n      <td>406.850006</td>\n      <td>100540.0</td>\n      <td>394.674072</td>\n    </tr>\n    <tr>\n      <th>2020-01-03</th>\n      <td>412.000000</td>\n      <td>401.149994</td>\n      <td>407.000000</td>\n      <td>404.350006</td>\n      <td>63951.0</td>\n      <td>392.248901</td>\n    </tr>\n    <tr>\n      <th>2020-01-06</th>\n      <td>414.799988</td>\n      <td>399.149994</td>\n      <td>410.000000</td>\n      <td>400.799988</td>\n      <td>368917.0</td>\n      <td>388.805115</td>\n    </tr>\n    <tr>\n      <th>2020-01-07</th>\n      <td>412.000000</td>\n      <td>401.000000</td>\n      <td>409.899994</td>\n      <td>402.500000</td>\n      <td>202671.0</td>\n      <td>390.454254</td>\n    </tr>\n    <tr>\n      <th>...</th>\n      <td>...</td>\n      <td>...</td>\n      <td>...</td>\n      <td>...</td>\n      <td>...</td>\n      <td>...</td>\n    </tr>\n    <tr>\n      <th>2020-10-19</th>\n      <td>266.750000</td>\n      <td>260.049988</td>\n      <td>260.899994</td>\n      <td>265.100006</td>\n      <td>308286.0</td>\n      <td>265.100006</td>\n    </tr>\n    <tr>\n      <th>2020-10-20</th>\n      <td>276.350006</td>\n      <td>260.500000</td>\n      <td>263.750000</td>\n      <td>271.500000</td>\n      <td>793284.0</td>\n      <td>271.500000</td>\n    </tr>\n    <tr>\n      <th>2020-10-21</th>\n      <td>317.000000</td>\n      <td>264.549988</td>\n      <td>271.899994</td>\n      <td>301.950012</td>\n      <td>2541451.0</td>\n      <td>301.950012</td>\n    </tr>\n    <tr>\n      <th>2020-10-22</th>\n      <td>311.750000</td>\n      <td>292.100006</td>\n      <td>298.549988</td>\n      <td>309.200012</td>\n      <td>1354266.0</td>\n      <td>309.200012</td>\n    </tr>\n    <tr>\n      <th>2020-10-23</th>\n      <td>310.549988</td>\n      <td>294.000000</td>\n      <td>307.000000</td>\n      <td>296.149994</td>\n      <td>472334.0</td>\n      <td>296.149994</td>\n    </tr>\n  </tbody>\n</table>\n<p>204 rows × 6 columns</p>\n</div>"
     },
     "metadata": {},
     "execution_count": 29
    }
   ],
   "source": [
    "start=datetime.datetime(2020, 1, 1)\n",
    "end=datetime.datetime(2020, 10, 23)\n",
    "\n",
    "df1=data.DataReader(name=\"SOBHA.NS\", data_source=\"yahoo\", start=start,end=end)\n",
    "df1"
   ]
  },
  {
   "cell_type": "code",
   "execution_count": 36,
   "metadata": {},
   "outputs": [
    {
     "output_type": "execute_result",
     "data": {
      "text/plain": [
       "                  High         Low        Open       Close     Volume  \\\n",
       "Date                                                                    \n",
       "2020-01-01  404.399994  398.000000  402.799988  401.299988    94743.0   \n",
       "2020-01-02  410.049988  399.649994  402.000000  406.850006   100540.0   \n",
       "2020-01-03  412.000000  401.149994  407.000000  404.350006    63951.0   \n",
       "2020-01-06  414.799988  399.149994  410.000000  400.799988   368917.0   \n",
       "2020-01-07  412.000000  401.000000  409.899994  402.500000   202671.0   \n",
       "...                ...         ...         ...         ...        ...   \n",
       "2020-10-19  266.750000  260.049988  260.899994  265.100006   308286.0   \n",
       "2020-10-20  276.350006  260.500000  263.750000  271.500000   793284.0   \n",
       "2020-10-21  317.000000  264.549988  271.899994  301.950012  2541451.0   \n",
       "2020-10-22  311.750000  292.100006  298.549988  309.200012  1354266.0   \n",
       "2020-10-23  310.549988  294.000000  307.000000  296.149994   472334.0   \n",
       "\n",
       "             Adj Close  \n",
       "Date                    \n",
       "2020-01-01  389.290161  \n",
       "2020-01-02  394.674072  \n",
       "2020-01-03  392.248901  \n",
       "2020-01-06  388.805115  \n",
       "2020-01-07  390.454254  \n",
       "...                ...  \n",
       "2020-10-19  265.100006  \n",
       "2020-10-20  271.500000  \n",
       "2020-10-21  301.950012  \n",
       "2020-10-22  309.200012  \n",
       "2020-10-23  296.149994  \n",
       "\n",
       "[204 rows x 6 columns]"
      ],
      "text/html": "<div>\n<style scoped>\n    .dataframe tbody tr th:only-of-type {\n        vertical-align: middle;\n    }\n\n    .dataframe tbody tr th {\n        vertical-align: top;\n    }\n\n    .dataframe thead th {\n        text-align: right;\n    }\n</style>\n<table border=\"1\" class=\"dataframe\">\n  <thead>\n    <tr style=\"text-align: right;\">\n      <th></th>\n      <th>High</th>\n      <th>Low</th>\n      <th>Open</th>\n      <th>Close</th>\n      <th>Volume</th>\n      <th>Adj Close</th>\n    </tr>\n    <tr>\n      <th>Date</th>\n      <th></th>\n      <th></th>\n      <th></th>\n      <th></th>\n      <th></th>\n      <th></th>\n    </tr>\n  </thead>\n  <tbody>\n    <tr>\n      <th>2020-01-01</th>\n      <td>404.399994</td>\n      <td>398.000000</td>\n      <td>402.799988</td>\n      <td>401.299988</td>\n      <td>94743.0</td>\n      <td>389.290161</td>\n    </tr>\n    <tr>\n      <th>2020-01-02</th>\n      <td>410.049988</td>\n      <td>399.649994</td>\n      <td>402.000000</td>\n      <td>406.850006</td>\n      <td>100540.0</td>\n      <td>394.674072</td>\n    </tr>\n    <tr>\n      <th>2020-01-03</th>\n      <td>412.000000</td>\n      <td>401.149994</td>\n      <td>407.000000</td>\n      <td>404.350006</td>\n      <td>63951.0</td>\n      <td>392.248901</td>\n    </tr>\n    <tr>\n      <th>2020-01-06</th>\n      <td>414.799988</td>\n      <td>399.149994</td>\n      <td>410.000000</td>\n      <td>400.799988</td>\n      <td>368917.0</td>\n      <td>388.805115</td>\n    </tr>\n    <tr>\n      <th>2020-01-07</th>\n      <td>412.000000</td>\n      <td>401.000000</td>\n      <td>409.899994</td>\n      <td>402.500000</td>\n      <td>202671.0</td>\n      <td>390.454254</td>\n    </tr>\n    <tr>\n      <th>...</th>\n      <td>...</td>\n      <td>...</td>\n      <td>...</td>\n      <td>...</td>\n      <td>...</td>\n      <td>...</td>\n    </tr>\n    <tr>\n      <th>2020-10-19</th>\n      <td>266.750000</td>\n      <td>260.049988</td>\n      <td>260.899994</td>\n      <td>265.100006</td>\n      <td>308286.0</td>\n      <td>265.100006</td>\n    </tr>\n    <tr>\n      <th>2020-10-20</th>\n      <td>276.350006</td>\n      <td>260.500000</td>\n      <td>263.750000</td>\n      <td>271.500000</td>\n      <td>793284.0</td>\n      <td>271.500000</td>\n    </tr>\n    <tr>\n      <th>2020-10-21</th>\n      <td>317.000000</td>\n      <td>264.549988</td>\n      <td>271.899994</td>\n      <td>301.950012</td>\n      <td>2541451.0</td>\n      <td>301.950012</td>\n    </tr>\n    <tr>\n      <th>2020-10-22</th>\n      <td>311.750000</td>\n      <td>292.100006</td>\n      <td>298.549988</td>\n      <td>309.200012</td>\n      <td>1354266.0</td>\n      <td>309.200012</td>\n    </tr>\n    <tr>\n      <th>2020-10-23</th>\n      <td>310.549988</td>\n      <td>294.000000</td>\n      <td>307.000000</td>\n      <td>296.149994</td>\n      <td>472334.0</td>\n      <td>296.149994</td>\n    </tr>\n  </tbody>\n</table>\n<p>204 rows × 6 columns</p>\n</div>"
     },
     "metadata": {},
     "execution_count": 36
    }
   ],
   "source": [
    "from pandas_datareader import data\n",
    "import datetime\n",
    "from bokeh.plotting import figure, show, output_file\n",
    "\n",
    "\n",
    "start=datetime.datetime(2020, 1, 1)\n",
    "end=datetime.datetime(2020, 10, 23)\n",
    "\n",
    "df=data.DataReader(name=\"SOBHA.NS\", data_source=\"yahoo\", start=start,end=end)\n",
    "df"
   ]
  },
  {
   "cell_type": "code",
   "execution_count": 37,
   "metadata": {},
   "outputs": [],
   "source": [
    "def inc_dec(c,o):\n",
    "    if c > o:\n",
    "        value=\"Increase\"\n",
    "    elif c < o:\n",
    "        value=\"Decrease\"\n",
    "    else:\n",
    "        value=\"Equal\"\n",
    "    return value\n",
    "\n",
    "df[\"Status\"]=[inc_dec(c,o) for c, o in zip(df.Close, df.Open)]\n",
    "df[\"Middle\"]=(df.Open+df.Close)/2\n",
    "df[\"Height\"]=abs(df.Close-df.Open)"
   ]
  },
  {
   "cell_type": "code",
   "execution_count": 38,
   "metadata": {},
   "outputs": [
    {
     "output_type": "execute_result",
     "data": {
      "text/plain": [
       "                  High         Low        Open       Close     Volume  \\\n",
       "Date                                                                    \n",
       "2020-01-01  404.399994  398.000000  402.799988  401.299988    94743.0   \n",
       "2020-01-02  410.049988  399.649994  402.000000  406.850006   100540.0   \n",
       "2020-01-03  412.000000  401.149994  407.000000  404.350006    63951.0   \n",
       "2020-01-06  414.799988  399.149994  410.000000  400.799988   368917.0   \n",
       "2020-01-07  412.000000  401.000000  409.899994  402.500000   202671.0   \n",
       "...                ...         ...         ...         ...        ...   \n",
       "2020-10-19  266.750000  260.049988  260.899994  265.100006   308286.0   \n",
       "2020-10-20  276.350006  260.500000  263.750000  271.500000   793284.0   \n",
       "2020-10-21  317.000000  264.549988  271.899994  301.950012  2541451.0   \n",
       "2020-10-22  311.750000  292.100006  298.549988  309.200012  1354266.0   \n",
       "2020-10-23  310.549988  294.000000  307.000000  296.149994   472334.0   \n",
       "\n",
       "             Adj Close    Status      Middle     Height  \n",
       "Date                                                     \n",
       "2020-01-01  389.290161  Decrease  402.049988   1.500000  \n",
       "2020-01-02  394.674072  Increase  404.425003   4.850006  \n",
       "2020-01-03  392.248901  Decrease  405.675003   2.649994  \n",
       "2020-01-06  388.805115  Decrease  405.399994   9.200012  \n",
       "2020-01-07  390.454254  Decrease  406.199997   7.399994  \n",
       "...                ...       ...         ...        ...  \n",
       "2020-10-19  265.100006  Increase  263.000000   4.200012  \n",
       "2020-10-20  271.500000  Increase  267.625000   7.750000  \n",
       "2020-10-21  301.950012  Increase  286.925003  30.050018  \n",
       "2020-10-22  309.200012  Increase  303.875000  10.650024  \n",
       "2020-10-23  296.149994  Decrease  301.574997  10.850006  \n",
       "\n",
       "[204 rows x 9 columns]"
      ],
      "text/html": "<div>\n<style scoped>\n    .dataframe tbody tr th:only-of-type {\n        vertical-align: middle;\n    }\n\n    .dataframe tbody tr th {\n        vertical-align: top;\n    }\n\n    .dataframe thead th {\n        text-align: right;\n    }\n</style>\n<table border=\"1\" class=\"dataframe\">\n  <thead>\n    <tr style=\"text-align: right;\">\n      <th></th>\n      <th>High</th>\n      <th>Low</th>\n      <th>Open</th>\n      <th>Close</th>\n      <th>Volume</th>\n      <th>Adj Close</th>\n      <th>Status</th>\n      <th>Middle</th>\n      <th>Height</th>\n    </tr>\n    <tr>\n      <th>Date</th>\n      <th></th>\n      <th></th>\n      <th></th>\n      <th></th>\n      <th></th>\n      <th></th>\n      <th></th>\n      <th></th>\n      <th></th>\n    </tr>\n  </thead>\n  <tbody>\n    <tr>\n      <th>2020-01-01</th>\n      <td>404.399994</td>\n      <td>398.000000</td>\n      <td>402.799988</td>\n      <td>401.299988</td>\n      <td>94743.0</td>\n      <td>389.290161</td>\n      <td>Decrease</td>\n      <td>402.049988</td>\n      <td>1.500000</td>\n    </tr>\n    <tr>\n      <th>2020-01-02</th>\n      <td>410.049988</td>\n      <td>399.649994</td>\n      <td>402.000000</td>\n      <td>406.850006</td>\n      <td>100540.0</td>\n      <td>394.674072</td>\n      <td>Increase</td>\n      <td>404.425003</td>\n      <td>4.850006</td>\n    </tr>\n    <tr>\n      <th>2020-01-03</th>\n      <td>412.000000</td>\n      <td>401.149994</td>\n      <td>407.000000</td>\n      <td>404.350006</td>\n      <td>63951.0</td>\n      <td>392.248901</td>\n      <td>Decrease</td>\n      <td>405.675003</td>\n      <td>2.649994</td>\n    </tr>\n    <tr>\n      <th>2020-01-06</th>\n      <td>414.799988</td>\n      <td>399.149994</td>\n      <td>410.000000</td>\n      <td>400.799988</td>\n      <td>368917.0</td>\n      <td>388.805115</td>\n      <td>Decrease</td>\n      <td>405.399994</td>\n      <td>9.200012</td>\n    </tr>\n    <tr>\n      <th>2020-01-07</th>\n      <td>412.000000</td>\n      <td>401.000000</td>\n      <td>409.899994</td>\n      <td>402.500000</td>\n      <td>202671.0</td>\n      <td>390.454254</td>\n      <td>Decrease</td>\n      <td>406.199997</td>\n      <td>7.399994</td>\n    </tr>\n    <tr>\n      <th>...</th>\n      <td>...</td>\n      <td>...</td>\n      <td>...</td>\n      <td>...</td>\n      <td>...</td>\n      <td>...</td>\n      <td>...</td>\n      <td>...</td>\n      <td>...</td>\n    </tr>\n    <tr>\n      <th>2020-10-19</th>\n      <td>266.750000</td>\n      <td>260.049988</td>\n      <td>260.899994</td>\n      <td>265.100006</td>\n      <td>308286.0</td>\n      <td>265.100006</td>\n      <td>Increase</td>\n      <td>263.000000</td>\n      <td>4.200012</td>\n    </tr>\n    <tr>\n      <th>2020-10-20</th>\n      <td>276.350006</td>\n      <td>260.500000</td>\n      <td>263.750000</td>\n      <td>271.500000</td>\n      <td>793284.0</td>\n      <td>271.500000</td>\n      <td>Increase</td>\n      <td>267.625000</td>\n      <td>7.750000</td>\n    </tr>\n    <tr>\n      <th>2020-10-21</th>\n      <td>317.000000</td>\n      <td>264.549988</td>\n      <td>271.899994</td>\n      <td>301.950012</td>\n      <td>2541451.0</td>\n      <td>301.950012</td>\n      <td>Increase</td>\n      <td>286.925003</td>\n      <td>30.050018</td>\n    </tr>\n    <tr>\n      <th>2020-10-22</th>\n      <td>311.750000</td>\n      <td>292.100006</td>\n      <td>298.549988</td>\n      <td>309.200012</td>\n      <td>1354266.0</td>\n      <td>309.200012</td>\n      <td>Increase</td>\n      <td>303.875000</td>\n      <td>10.650024</td>\n    </tr>\n    <tr>\n      <th>2020-10-23</th>\n      <td>310.549988</td>\n      <td>294.000000</td>\n      <td>307.000000</td>\n      <td>296.149994</td>\n      <td>472334.0</td>\n      <td>296.149994</td>\n      <td>Decrease</td>\n      <td>301.574997</td>\n      <td>10.850006</td>\n    </tr>\n  </tbody>\n</table>\n<p>204 rows × 9 columns</p>\n</div>"
     },
     "metadata": {},
     "execution_count": 38
    }
   ],
   "source": [
    "df"
   ]
  },
  {
   "cell_type": "code",
   "execution_count": 39,
   "metadata": {},
   "outputs": [],
   "source": [
    "date_increase=df.index[df.Close > df.Open]\n",
    "date_decrease=df.index[df.Close < df.Open]"
   ]
  },
  {
   "cell_type": "code",
   "execution_count": 40,
   "metadata": {},
   "outputs": [],
   "source": [
    "# type(date_increase)\n",
    "# date_decrease"
   ]
  },
  {
   "cell_type": "code",
   "execution_count": 41,
   "metadata": {},
   "outputs": [],
   "source": [
    "p=figure(x_axis_type='datetime', width=1000, height=300, sizing_mode='scale_width')\n",
    "p.title.text=\"Candlestick Chart\"\n",
    "p.grid.grid_line_alpha=0\n",
    "\n",
    "hours_12=12*60*60*1000\n",
    "\n",
    "p.segment(df.index, df.High, df.index, df.Low, color=\"Blue\")\n",
    "\n",
    "p.rect(df.index[df.Status==\"Increase\"], df.Middle[df.Status==\"Increase\"], hours_12, df.Height[df.Status==\"Increase\"], fill_color=\"#ADFF2F\", line_color=\"black\")\n",
    "\n",
    "p.rect(df.index[df.Status==\"Decrease\"], df.Middle[df.Status==\"Decrease\"], hours_12, df.Height[df.Status==\"Decrease\"], fill_color=\"#FF0000\", line_color=\"black\")\n",
    "\n",
    "# segments in stock analysis displays the highs and the lows of stocks for particular day\n",
    "\n",
    "output_file(\"CS.html\")\n",
    "show(p)"
   ]
  }
 ]
}