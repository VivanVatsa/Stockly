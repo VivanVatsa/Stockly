{
 "metadata": {
  "language_info": {
   "codemirror_mode": {
    "name": "ipython",
    "version": 3
   },
   "file_extension": ".py",
   "mimetype": "text/x-python",
   "name": "python",
   "nbconvert_exporter": "python",
   "pygments_lexer": "ipython3",
   "version": "3.9.0-final"
  },
  "orig_nbformat": 2,
  "kernelspec": {
   "name": "Python 3.9.0 32-bit",
   "display_name": "Python 3.9.0 32-bit",
   "metadata": {
    "interpreter": {
     "hash": "966554753b7ad300c761fe504d2a0047967422be04d495bf5b98858861ffa539"
    }
   }
  }
 },
 "nbformat": 4,
 "nbformat_minor": 2,
 "cells": [
  {
   "cell_type": "code",
   "execution_count": 1,
   "metadata": {},
   "outputs": [],
   "source": [
    "from pandas_datareader import data\n",
    "import datetime"
   ]
  },
  {
   "cell_type": "code",
   "execution_count": 2,
   "metadata": {},
   "outputs": [
    {
     "output_type": "stream",
     "text": [
      "\u001b[1;31mSignature:\u001b[0m\n",
      "\u001b[0mdata\u001b[0m\u001b[1;33m.\u001b[0m\u001b[0mDataReader\u001b[0m\u001b[1;33m(\u001b[0m\u001b[1;33m\n",
      "\u001b[0m    \u001b[0mname\u001b[0m\u001b[1;33m,\u001b[0m\u001b[1;33m\n",
      "\u001b[0m    \u001b[0mdata_source\u001b[0m\u001b[1;33m=\u001b[0m\u001b[1;32mNone\u001b[0m\u001b[1;33m,\u001b[0m\u001b[1;33m\n",
      "\u001b[0m    \u001b[0mstart\u001b[0m\u001b[1;33m=\u001b[0m\u001b[1;32mNone\u001b[0m\u001b[1;33m,\u001b[0m\u001b[1;33m\n",
      "\u001b[0m    \u001b[0mend\u001b[0m\u001b[1;33m=\u001b[0m\u001b[1;32mNone\u001b[0m\u001b[1;33m,\u001b[0m\u001b[1;33m\n",
      "\u001b[0m    \u001b[0mretry_count\u001b[0m\u001b[1;33m=\u001b[0m\u001b[1;36m3\u001b[0m\u001b[1;33m,\u001b[0m\u001b[1;33m\n",
      "\u001b[0m    \u001b[0mpause\u001b[0m\u001b[1;33m=\u001b[0m\u001b[1;36m0.1\u001b[0m\u001b[1;33m,\u001b[0m\u001b[1;33m\n",
      "\u001b[0m    \u001b[0msession\u001b[0m\u001b[1;33m=\u001b[0m\u001b[1;32mNone\u001b[0m\u001b[1;33m,\u001b[0m\u001b[1;33m\n",
      "\u001b[0m    \u001b[0mapi_key\u001b[0m\u001b[1;33m=\u001b[0m\u001b[1;32mNone\u001b[0m\u001b[1;33m,\u001b[0m\u001b[1;33m\n",
      "\u001b[0m\u001b[1;33m)\u001b[0m\u001b[1;33m\u001b[0m\u001b[1;33m\u001b[0m\u001b[0m\n",
      "\u001b[1;31mDocstring:\u001b[0m\n",
      "Imports data from a number of online sources.\n",
      "\n",
      "Currently supports Google Finance, St. Louis FED (FRED),\n",
      "and Kenneth French's data library, among others.\n",
      "\n",
      "Parameters\n",
      "----------\n",
      "name : str or list of strs\n",
      "    the name of the dataset. Some data sources (IEX, fred) will\n",
      "    accept a list of names.\n",
      "data_source: {str, None}\n",
      "    the data source (\"iex\", \"fred\", \"ff\")\n",
      "start : string, int, date, datetime, Timestamp\n",
      "    left boundary for range (defaults to 1/1/2010)\n",
      "end : string, int, date, datetime, Timestamp\n",
      "    right boundary for range (defaults to today)\n",
      "retry_count : {int, 3}\n",
      "    Number of times to retry query request.\n",
      "pause : {numeric, 0.001}\n",
      "    Time, in seconds, to pause between consecutive queries of chunks. If\n",
      "    single value given for symbol, represents the pause between retries.\n",
      "session : Session, default None\n",
      "    requests.sessions.Session instance to be used\n",
      "api_key : (str, None)\n",
      "    Optional parameter to specify an API key for certain data sources.\n",
      "\n",
      "Examples\n",
      "----------\n",
      "# Data from Google Finance\n",
      "aapl = DataReader(\"AAPL\", \"iex\")\n",
      "\n",
      "# Price and volume data from IEX\n",
      "tops = DataReader([\"GS\", \"AAPL\"], \"iex-tops\")\n",
      "# Top of book executions from IEX\n",
      "gs = DataReader(\"GS\", \"iex-last\")\n",
      "# Real-time depth of book data from IEX\n",
      "gs = DataReader(\"GS\", \"iex-book\")\n",
      "\n",
      "# Data from FRED\n",
      "vix = DataReader(\"VIXCLS\", \"fred\")\n",
      "\n",
      "# Data from Fama/French\n",
      "ff = DataReader(\"F-F_Research_Data_Factors\", \"famafrench\")\n",
      "ff = DataReader(\"F-F_Research_Data_Factors_weekly\", \"famafrench\")\n",
      "ff = DataReader(\"6_Portfolios_2x3\", \"famafrench\")\n",
      "ff = DataReader(\"F-F_ST_Reversal_Factor\", \"famafrench\")\n",
      "\u001b[1;31mFile:\u001b[0m      c:\\users\\vivan\\appdata\\local\\programs\\python\\python39-32\\lib\\site-packages\\pandas_datareader\\data.py\n",
      "\u001b[1;31mType:\u001b[0m      function\n"
     ],
     "name": "stdout"
    }
   ],
   "source": [
    "data.DataReader?"
   ]
  },
  {
   "cell_type": "code",
   "execution_count": 3,
   "metadata": {},
   "outputs": [
    {
     "output_type": "execute_result",
     "data": {
      "text/plain": [
       "                  High         Low        Open       Close     Volume  \\\n",
       "Date                                                                    \n",
       "2020-10-12  125.180000  119.279999  120.059998  124.400002  240226800   \n",
       "2020-10-13  125.389999  119.650002  125.269997  121.099998  262330500   \n",
       "2020-10-14  123.029999  119.620003  121.000000  121.190002  151062300   \n",
       "2020-10-15  121.199997  118.150002  118.720001  120.709999  112559200   \n",
       "2020-10-16  121.550003  118.809998  121.279999  119.019997  115393800   \n",
       "2020-10-19  120.419998  115.660004  119.959999  115.980003  120639300   \n",
       "2020-10-20  118.980003  115.629997  116.199997  117.510002  124423700   \n",
       "\n",
       "             Adj Close  \n",
       "Date                    \n",
       "2020-10-12  124.400002  \n",
       "2020-10-13  121.099998  \n",
       "2020-10-14  121.190002  \n",
       "2020-10-15  120.709999  \n",
       "2020-10-16  119.019997  \n",
       "2020-10-19  115.980003  \n",
       "2020-10-20  117.510002  "
      ],
      "text/html": "<div>\n<style scoped>\n    .dataframe tbody tr th:only-of-type {\n        vertical-align: middle;\n    }\n\n    .dataframe tbody tr th {\n        vertical-align: top;\n    }\n\n    .dataframe thead th {\n        text-align: right;\n    }\n</style>\n<table border=\"1\" class=\"dataframe\">\n  <thead>\n    <tr style=\"text-align: right;\">\n      <th></th>\n      <th>High</th>\n      <th>Low</th>\n      <th>Open</th>\n      <th>Close</th>\n      <th>Volume</th>\n      <th>Adj Close</th>\n    </tr>\n    <tr>\n      <th>Date</th>\n      <th></th>\n      <th></th>\n      <th></th>\n      <th></th>\n      <th></th>\n      <th></th>\n    </tr>\n  </thead>\n  <tbody>\n    <tr>\n      <th>2020-10-12</th>\n      <td>125.180000</td>\n      <td>119.279999</td>\n      <td>120.059998</td>\n      <td>124.400002</td>\n      <td>240226800</td>\n      <td>124.400002</td>\n    </tr>\n    <tr>\n      <th>2020-10-13</th>\n      <td>125.389999</td>\n      <td>119.650002</td>\n      <td>125.269997</td>\n      <td>121.099998</td>\n      <td>262330500</td>\n      <td>121.099998</td>\n    </tr>\n    <tr>\n      <th>2020-10-14</th>\n      <td>123.029999</td>\n      <td>119.620003</td>\n      <td>121.000000</td>\n      <td>121.190002</td>\n      <td>151062300</td>\n      <td>121.190002</td>\n    </tr>\n    <tr>\n      <th>2020-10-15</th>\n      <td>121.199997</td>\n      <td>118.150002</td>\n      <td>118.720001</td>\n      <td>120.709999</td>\n      <td>112559200</td>\n      <td>120.709999</td>\n    </tr>\n    <tr>\n      <th>2020-10-16</th>\n      <td>121.550003</td>\n      <td>118.809998</td>\n      <td>121.279999</td>\n      <td>119.019997</td>\n      <td>115393800</td>\n      <td>119.019997</td>\n    </tr>\n    <tr>\n      <th>2020-10-19</th>\n      <td>120.419998</td>\n      <td>115.660004</td>\n      <td>119.959999</td>\n      <td>115.980003</td>\n      <td>120639300</td>\n      <td>115.980003</td>\n    </tr>\n    <tr>\n      <th>2020-10-20</th>\n      <td>118.980003</td>\n      <td>115.629997</td>\n      <td>116.199997</td>\n      <td>117.510002</td>\n      <td>124423700</td>\n      <td>117.510002</td>\n    </tr>\n  </tbody>\n</table>\n</div>"
     },
     "metadata": {},
     "execution_count": 3
    }
   ],
   "source": [
    "start=datetime.datetime(2020, 10, 11)\n",
    "end=datetime.datetime(2020, 10, 20)\n",
    "\n",
    "df=data.DataReader(name=\"AAPL\", data_source=\"yahoo\", start=start,end=end)\n",
    "df"
   ]
  },
  {
   "cell_type": "code",
   "execution_count": 6,
   "metadata": {},
   "outputs": [
    {
     "output_type": "execute_result",
     "data": {
      "text/plain": [
       "                  High         Low        Open       Close   Volume  \\\n",
       "Date                                                                  \n",
       "2020-10-01  230.000000  226.500000  226.699997  227.899994   183655   \n",
       "2020-10-05  241.000000  228.500000  228.500000  239.449997   299862   \n",
       "2020-10-06  273.000000  250.000000  250.000000  262.049988  2939267   \n",
       "2020-10-07  265.000000  254.199997  264.950012  259.049988   305926   \n",
       "2020-10-08  268.000000  257.299988  263.950012  266.549988   450004   \n",
       "2020-10-09  267.049988  257.750000  267.000000  261.049988   169639   \n",
       "2020-10-12  266.450012  259.799988  262.950012  262.200012   287715   \n",
       "2020-10-13  264.450012  258.049988  261.850006  260.350006   122536   \n",
       "2020-10-14  264.399994  255.000000  264.000000  256.750000   122611   \n",
       "2020-10-15  264.950012  248.300003  260.000000  250.300003   276055   \n",
       "2020-10-16  260.000000  200.250000  251.649994  258.500000   317608   \n",
       "2020-10-19  266.750000  260.049988  260.899994  265.100006   308286   \n",
       "2020-10-20  276.350006  260.500000  263.750000  271.500000   793284   \n",
       "2020-10-21  317.000000  264.549988  271.899994  301.950012  2541451   \n",
       "2020-10-22  311.750000  292.100006  298.549988  309.200012  1353996   \n",
       "\n",
       "             Adj Close  \n",
       "Date                    \n",
       "2020-10-01  227.899994  \n",
       "2020-10-05  239.449997  \n",
       "2020-10-06  262.049988  \n",
       "2020-10-07  259.049988  \n",
       "2020-10-08  266.549988  \n",
       "2020-10-09  261.049988  \n",
       "2020-10-12  262.200012  \n",
       "2020-10-13  260.350006  \n",
       "2020-10-14  256.750000  \n",
       "2020-10-15  250.300003  \n",
       "2020-10-16  258.500000  \n",
       "2020-10-19  265.100006  \n",
       "2020-10-20  271.500000  \n",
       "2020-10-21  301.950012  \n",
       "2020-10-22  309.200012  "
      ],
      "text/html": "<div>\n<style scoped>\n    .dataframe tbody tr th:only-of-type {\n        vertical-align: middle;\n    }\n\n    .dataframe tbody tr th {\n        vertical-align: top;\n    }\n\n    .dataframe thead th {\n        text-align: right;\n    }\n</style>\n<table border=\"1\" class=\"dataframe\">\n  <thead>\n    <tr style=\"text-align: right;\">\n      <th></th>\n      <th>High</th>\n      <th>Low</th>\n      <th>Open</th>\n      <th>Close</th>\n      <th>Volume</th>\n      <th>Adj Close</th>\n    </tr>\n    <tr>\n      <th>Date</th>\n      <th></th>\n      <th></th>\n      <th></th>\n      <th></th>\n      <th></th>\n      <th></th>\n    </tr>\n  </thead>\n  <tbody>\n    <tr>\n      <th>2020-10-01</th>\n      <td>230.000000</td>\n      <td>226.500000</td>\n      <td>226.699997</td>\n      <td>227.899994</td>\n      <td>183655</td>\n      <td>227.899994</td>\n    </tr>\n    <tr>\n      <th>2020-10-05</th>\n      <td>241.000000</td>\n      <td>228.500000</td>\n      <td>228.500000</td>\n      <td>239.449997</td>\n      <td>299862</td>\n      <td>239.449997</td>\n    </tr>\n    <tr>\n      <th>2020-10-06</th>\n      <td>273.000000</td>\n      <td>250.000000</td>\n      <td>250.000000</td>\n      <td>262.049988</td>\n      <td>2939267</td>\n      <td>262.049988</td>\n    </tr>\n    <tr>\n      <th>2020-10-07</th>\n      <td>265.000000</td>\n      <td>254.199997</td>\n      <td>264.950012</td>\n      <td>259.049988</td>\n      <td>305926</td>\n      <td>259.049988</td>\n    </tr>\n    <tr>\n      <th>2020-10-08</th>\n      <td>268.000000</td>\n      <td>257.299988</td>\n      <td>263.950012</td>\n      <td>266.549988</td>\n      <td>450004</td>\n      <td>266.549988</td>\n    </tr>\n    <tr>\n      <th>2020-10-09</th>\n      <td>267.049988</td>\n      <td>257.750000</td>\n      <td>267.000000</td>\n      <td>261.049988</td>\n      <td>169639</td>\n      <td>261.049988</td>\n    </tr>\n    <tr>\n      <th>2020-10-12</th>\n      <td>266.450012</td>\n      <td>259.799988</td>\n      <td>262.950012</td>\n      <td>262.200012</td>\n      <td>287715</td>\n      <td>262.200012</td>\n    </tr>\n    <tr>\n      <th>2020-10-13</th>\n      <td>264.450012</td>\n      <td>258.049988</td>\n      <td>261.850006</td>\n      <td>260.350006</td>\n      <td>122536</td>\n      <td>260.350006</td>\n    </tr>\n    <tr>\n      <th>2020-10-14</th>\n      <td>264.399994</td>\n      <td>255.000000</td>\n      <td>264.000000</td>\n      <td>256.750000</td>\n      <td>122611</td>\n      <td>256.750000</td>\n    </tr>\n    <tr>\n      <th>2020-10-15</th>\n      <td>264.950012</td>\n      <td>248.300003</td>\n      <td>260.000000</td>\n      <td>250.300003</td>\n      <td>276055</td>\n      <td>250.300003</td>\n    </tr>\n    <tr>\n      <th>2020-10-16</th>\n      <td>260.000000</td>\n      <td>200.250000</td>\n      <td>251.649994</td>\n      <td>258.500000</td>\n      <td>317608</td>\n      <td>258.500000</td>\n    </tr>\n    <tr>\n      <th>2020-10-19</th>\n      <td>266.750000</td>\n      <td>260.049988</td>\n      <td>260.899994</td>\n      <td>265.100006</td>\n      <td>308286</td>\n      <td>265.100006</td>\n    </tr>\n    <tr>\n      <th>2020-10-20</th>\n      <td>276.350006</td>\n      <td>260.500000</td>\n      <td>263.750000</td>\n      <td>271.500000</td>\n      <td>793284</td>\n      <td>271.500000</td>\n    </tr>\n    <tr>\n      <th>2020-10-21</th>\n      <td>317.000000</td>\n      <td>264.549988</td>\n      <td>271.899994</td>\n      <td>301.950012</td>\n      <td>2541451</td>\n      <td>301.950012</td>\n    </tr>\n    <tr>\n      <th>2020-10-22</th>\n      <td>311.750000</td>\n      <td>292.100006</td>\n      <td>298.549988</td>\n      <td>309.200012</td>\n      <td>1353996</td>\n      <td>309.200012</td>\n    </tr>\n  </tbody>\n</table>\n</div>"
     },
     "metadata": {},
     "execution_count": 6
    }
   ],
   "source": [
    "start=datetime.datetime(2020, 10, 1)\n",
    "end=datetime.datetime(2020, 10, 22)\n",
    "\n",
    "df1=data.DataReader(name=\"SOBHA.NS\", data_source=\"yahoo\", start=start,end=end)\n",
    "df1"
   ]
  },
  {
   "cell_type": "code",
   "execution_count": null,
   "metadata": {},
   "outputs": [],
   "source": []
  }
 ]
}