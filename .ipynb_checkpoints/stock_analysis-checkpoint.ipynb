{
 "cells": [
  {
   "cell_type": "code",
   "execution_count": 26,
   "metadata": {},
   "outputs": [],
   "source": [
    "from pandas_datareader import data\n",
    "import datetime\n",
    "\n",
    "# data.DataReader?\n",
    "\n",
    "# start=datetime.datetime(2020, 10, 11)\n",
    "# end=datetime.datetime(2020, 10, 20)\n",
    "\n",
    "# dfff=data.DataReader(name=\"AAPL\", data_source=\"yahoo\", start=start,end=end)\n",
    "# dfff\n",
    "\n",
    "start=datetime.datetime(2020, 1, 1)\n",
    "end=datetime.datetime(2020, 10, 23)\n",
    "\n",
    "df1=data.DataReader(name=\"SOBHA.NS\", data_source=\"yahoo\", start=start,end=end)\n",
    "df1"
   ]
  },
  {
   "cell_type": "code",
   "execution_count": 2,
   "metadata": {},
   "outputs": [],
   "source": [
    "from pandas_datareader import data\n",
    "import datetime\n",
    "from bokeh.plotting import figure, show, output_file\n",
    "\n",
    "\n",
    "start=datetime.datetime(2020, 1, 1)\n",
    "end=datetime.datetime(2020, 10, 23)\n",
    "\n",
    "df=data.DataReader(name=\"SOBHA.NS\", data_source=\"yahoo\", start=start,end=end)\n",
    "\n",
    "def inc_dec(c,o):\n",
    "    if c > o:\n",
    "        value=\"Increase\"\n",
    "    elif c < o:\n",
    "        value=\"Decrease\"\n",
    "    else:\n",
    "        value=\"Equal\"\n",
    "    return value\n",
    "\n",
    "df[\"Status\"]=[inc_dec(c,o) for c, o in zip(df.Close, df.Open)]\n",
    "df[\"Middle\"]=(df.Open+df.Close)/2\n",
    "df[\"Height\"]=abs(df.Close-df.Open)\n",
    "\n",
    "\n",
    "\n",
    "date_increase=df.index[df.Close > df.Open]\n",
    "date_decrease=df.index[df.Close < df.Open]\n",
    "\n",
    "# type(date_increase)\n",
    "# date_decrease\n",
    "\n",
    "p=figure(x_axis_type='datetime', width=1000, height=300, sizing_mode='scale_width')\n",
    "p.title.text=\"Candlestick Chart\"\n",
    "p.grid.grid_line_alpha=0\n",
    "\n",
    "hours_12=12*60*60*1000\n",
    "\n",
    "p.segment(df.index, df.High, df.index, df.Low, color=\"Blue\")\n",
    "\n",
    "p.rect(df.index[df.Status==\"Increase\"], df.Middle[df.Status==\"Increase\"], hours_12, df.Height[df.Status==\"Increase\"], fill_color=\"#ADFF2F\", line_color=\"black\")\n",
    "\n",
    "p.rect(df.index[df.Status==\"Decrease\"], df.Middle[df.Status==\"Decrease\"], hours_12, df.Height[df.Status==\"Decrease\"], fill_color=\"#FF0000\", line_color=\"black\")\n",
    "\n",
    "# segments in stock analysis displays the highs and the lows of stocks for particular day\n",
    "\n",
    "output_file(\"CS.html\")\n",
    "show(p)"
   ]
  },
  {
   "cell_type": "code",
   "execution_count": 1,
   "metadata": {},
   "outputs": [],
   "source": [
    "# figure?"
   ]
  },
  {
   "cell_type": "code",
   "execution_count": null,
   "metadata": {},
   "outputs": [],
   "source": []
  }
 ],
 "metadata": {
  "kernelspec": {
   "display_name": "Python 3",
   "language": "python",
   "name": "python3"
  },
  "language_info": {
   "codemirror_mode": {
    "name": "ipython",
    "version": 3
   },
   "file_extension": ".py",
   "mimetype": "text/x-python",
   "name": "python",
   "nbconvert_exporter": "python",
   "pygments_lexer": "ipython3",
   "version": "3.9.0"
  }
 },
 "nbformat": 4,
 "nbformat_minor": 2
}
